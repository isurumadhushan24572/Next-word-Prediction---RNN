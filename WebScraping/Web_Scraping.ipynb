{
 "cells": [
  {
   "cell_type": "code",
   "execution_count": 2,
   "metadata": {},
   "outputs": [
    {
     "name": "stdout",
     "output_type": "stream",
     "text": [
      "Paragraphs have been saved to paragraphs.txt\n"
     ]
    }
   ],
   "source": [
    "import requests\n",
    "from bs4 import BeautifulSoup\n",
    "\n",
    "# URL of the webpage to scrape\n",
    "url = \"https://www.footballhistory.org/\"\n",
    "\n",
    "# Output file name\n",
    "output_file = \"paragraphs.txt\"\n",
    "\n",
    "try:\n",
    "    # Send a GET request to the webpage\n",
    "    response = requests.get(url)\n",
    "    response.raise_for_status()  # Raise an error for bad responses\n",
    "    \n",
    "    # Parse the HTML content using BeautifulSoup\n",
    "    soup = BeautifulSoup(response.text, 'html.parser')\n",
    "    \n",
    "    # Find all paragraph elements\n",
    "    paragraphs = soup.find_all('p')\n",
    "    \n",
    "    # Open the file for writing\n",
    "    with open(output_file, \"w\", encoding=\"utf-8\") as file:\n",
    "        for p in paragraphs:\n",
    "            text = p.get_text(strip=True)\n",
    "            file.write(f\"{text}\\n\\n\")\n",
    "    \n",
    "    print(f\"Paragraphs have been saved to {output_file}\")\n",
    "except requests.exceptions.RequestException as e:\n",
    "    print(f\"Error fetching the webpage: {e}\")\n",
    "except Exception as e:\n",
    "    print(f\"An error occurred: {e}\")\n"
   ]
  }
 ],
 "metadata": {
  "kernelspec": {
   "display_name": "base",
   "language": "python",
   "name": "python3"
  },
  "language_info": {
   "codemirror_mode": {
    "name": "ipython",
    "version": 3
   },
   "file_extension": ".py",
   "mimetype": "text/x-python",
   "name": "python",
   "nbconvert_exporter": "python",
   "pygments_lexer": "ipython3",
   "version": "3.9.13"
  }
 },
 "nbformat": 4,
 "nbformat_minor": 2
}
